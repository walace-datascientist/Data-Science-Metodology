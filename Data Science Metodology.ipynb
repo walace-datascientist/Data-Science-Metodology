{
    "nbformat_minor": 1, 
    "cells": [
        {
            "source": "<a href=\"https://cognitiveclass.ai\"><img src = \"https://ibm.box.com/shared/static/9gegpsmnsoo25ikkbl4qzlvlyjbgxs5x.png\" width = 400> </a>\n\n<h1 align=center><font size = 5>From Problem to Approach</font></h1>", 
            "cell_type": "markdown", 
            "metadata": {
                "collapsed": true
            }
        }, 
        {
            "source": "## Introduction\n\nThe aim of these labs is to reinforce the concepts that we discuss in each module's videos. These labs will revolve around the use case of food recipes, and together, we will walk through the process that data scientists usually follow when trying to solve a problem. Let's get started!\n\nIn this lab, we will start learning about the data science methodology, and focus on the **Business Understanding** and the **Analytic Approach** stages.\n\n------------", 
            "cell_type": "markdown", 
            "metadata": {}
        }, 
        {
            "source": "## Table of Contents\n\n<div class=\"alert alert-block alert-info\" style=\"margin-top: 20px\">\n\n1. [Business Understanding](#0)<br>\n2. [Analytic Approach](#2) <br>\n</div>\n<hr>", 
            "cell_type": "markdown", 
            "metadata": {}
        }, 
        {
            "source": "# Business Understanding \n<a id=\"0\"></a>\n", 
            "cell_type": "markdown", 
            "metadata": {}
        }, 
        {
            "source": "This is the **Data Science Methodology**, a flowchart that begins with business understanding.", 
            "cell_type": "markdown", 
            "metadata": {}
        }, 
        {
            "source": "<img src=\"https://ibm.box.com/shared/static/eyl60n09iige3eo5tac3dweqko2s58oo.png\" width=500>", 
            "cell_type": "markdown", 
            "metadata": {}
        }, 
        {
            "source": "#### Why is the business understanding stage important?", 
            "cell_type": "markdown", 
            "metadata": {}
        }, 
        {
            "source": "Your Answer:", 
            "cell_type": "raw", 
            "metadata": {}
        }, 
        {
            "source": "Double-click __here__ for the solution.\n<!-- The correct answer is:\nIt helps clarify the goal of the entity asking the question.\n-->", 
            "cell_type": "markdown", 
            "metadata": {}
        }, 
        {
            "source": "#### Looking at this diagram, we immediately spot two outstanding features of the data science methodology.", 
            "cell_type": "markdown", 
            "metadata": {}
        }, 
        {
            "source": "<img src = \"https://ibm.box.com/shared/static/6u3evi4h52e80cq78alqgza8nhfy8vhl.png\" width = 500>", 
            "cell_type": "markdown", 
            "metadata": {}
        }, 
        {
            "source": "#### What are they?", 
            "cell_type": "markdown", 
            "metadata": {}
        }, 
        {
            "source": "Your Answer:\n\n1.\n\n2.", 
            "cell_type": "markdown", 
            "metadata": {}
        }, 
        {
            "source": "Double-click __here__ for the solution.\n<!--The correct answer is: \n\\\\ 1. The flowchart is highly iterative.\n\\\\ 2. The flowchart never ends. \n-->", 
            "cell_type": "markdown", 
            "metadata": {}
        }, 
        {
            "source": "#### Now let's illustrate the data science methodology with a case study.", 
            "cell_type": "markdown", 
            "metadata": {}
        }, 
        {
            "source": "Say, we are interested in automating the process of figuring out the cuisine of a given dish or recipe. Let's apply the business understanding stage to this problem.", 
            "cell_type": "markdown", 
            "metadata": {}
        }, 
        {
            "source": "#### Q. Can we predict the cuisine of a given dish using the name of the dish only?", 
            "cell_type": "markdown", 
            "metadata": {}
        }, 
        {
            "source": "Your Answer:", 
            "cell_type": "raw", 
            "metadata": {}
        }, 
        {
            "source": "Double-click __here__ for the solution.\n<!--The correct answer is: \nNo.\n-->", 
            "cell_type": "markdown", 
            "metadata": {}
        }, 
        {
            "source": "#### Q. For example, the following dish names were taken from the menu of a local restaurant in Toronto, Ontario in Canada. \n\n#### 1. Beast\n#### 2. 2 PM\n#### 3. 4 Minute", 
            "cell_type": "markdown", 
            "metadata": {}
        }, 
        {
            "source": "#### Are you able to tell the cuisine of these dishes?", 
            "cell_type": "markdown", 
            "metadata": {}
        }, 
        {
            "source": "Double-click __here__ for the solution.\n<!--The correct answer is: \nThe cuisine is <strong>Japanese</strong>. Here are links to the images of the dishes: \n-->\n\n<!--\nBeast: https://ibm.box.com/shared/static/5e7duvewfl5bk4317sna5skvdhrehro2.png\n-->\n\n<!--\n2PM: https://ibm.box.com/shared/static/d9xuzqm8cq76zxxcc0f9gdts4iksipyk.png\n-->\n\n<!--\n4 Minute: https://ibm.box.com/shared/static/f1fwvvwn4u8rx8tghep6zyj5pi6a8v8k.png\n-->\n\n<!--\nPhotographs by Avlxyz: https://commons.wikimedia.org/wiki/Category:Photographs_by_Avlxyz\n-->", 
            "cell_type": "markdown", 
            "metadata": {}
        }, 
        {
            "source": "#### Q. What about by appearance only? Yes or No.", 
            "cell_type": "markdown", 
            "metadata": {}
        }, 
        {
            "source": "Your Answer:", 
            "cell_type": "raw", 
            "metadata": {}
        }, 
        {
            "source": "Double-click __here__ for the solution.\n<!--The correct answer is: \nNo, especially when it comes to countries in close geographical proximity such as Scandinavian countries, or Asian countries.\n-->", 
            "cell_type": "markdown", 
            "metadata": {}
        }, 
        {
            "source": "At this point, we realize that automating the process of determining the cuisine of a given dish is not a straightforward problem as we need to come up with a way that is very robust to the many cuisines and their variations.", 
            "cell_type": "markdown", 
            "metadata": {}
        }, 
        {
            "source": "#### Q. What about determining the cuisine of a dish based on its ingredients?", 
            "cell_type": "markdown", 
            "metadata": {}
        }, 
        {
            "source": "Your Answer:", 
            "cell_type": "raw", 
            "metadata": {}
        }, 
        {
            "source": "Double-click __here__ for the solution.\n<!--The correct answer is: \nPotentially yes, as there are specific ingredients unique to each cuisine.\n-->", 
            "cell_type": "markdown", 
            "metadata": {}
        }, 
        {
            "source": "", 
            "cell_type": "code", 
            "metadata": {}, 
            "outputs": [], 
            "execution_count": null
        }
    ], 
    "metadata": {
        "kernelspec": {
            "display_name": "Python 3.5 with Spark", 
            "name": "python3", 
            "language": "python3"
        }, 
        "language_info": {
            "mimetype": "text/x-python", 
            "nbconvert_exporter": "python", 
            "version": "3.5.4", 
            "name": "python", 
            "pygments_lexer": "ipython3", 
            "file_extension": ".py", 
            "codemirror_mode": {
                "version": 3, 
                "name": "ipython"
            }
        }
    }, 
    "nbformat": 4
}